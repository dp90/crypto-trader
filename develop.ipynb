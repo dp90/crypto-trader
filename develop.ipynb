{
 "cells": [
  {
   "cell_type": "code",
   "execution_count": 1,
   "metadata": {},
   "outputs": [
    {
     "name": "stdout",
     "output_type": "stream",
     "text": [
      "c:\\src\\crypto-trader\\data\\raw\n"
     ]
    }
   ],
   "source": [
    "import pandas as pd\n",
    "import numpy as np\n",
    "import os\n",
    "from trader.configs import TradingConfig as TC\n",
    "DATA_DIR = os.path.join(os.getcwd(), 'data', 'raw')\n",
    "print(DATA_DIR)"
   ]
  },
  {
   "cell_type": "code",
   "execution_count": 3,
   "metadata": {},
   "outputs": [],
   "source": [
    "dfs = []\n",
    "for ccy in TC.CURRENCIES:\n",
    "    df = pd.read_csv(os.path.join(DATA_DIR, ccy + '.csv'))\n",
    "    # df['NAME'] = ccy\n",
    "    df['TIME'] = pd.to_datetime(df['TIME'])\n",
    "    df['TIME_INDEX'] = df['TIME'].dt.hour * 12 + df['TIME'].dt.minute // 5\n",
    "    df = df.drop(columns='TIME')\n",
    "    dfs.append(df)\n",
    "# data = pd.concat(dfs)\n",
    "# data['TIME'] = pd.to_datetime(data['TIME'])"
   ]
  },
  {
   "cell_type": "code",
   "execution_count": 4,
   "metadata": {},
   "outputs": [],
   "source": [
    "dfs = [df.to_numpy() for df in dfs]"
   ]
  },
  {
   "cell_type": "code",
   "execution_count": 5,
   "metadata": {},
   "outputs": [
    {
     "ename": "AttributeError",
     "evalue": "'function' object has no attribute 'shape'",
     "output_type": "error",
     "traceback": [
      "\u001b[1;31m---------------------------------------------------------------------------\u001b[0m",
      "\u001b[1;31mAttributeError\u001b[0m                            Traceback (most recent call last)",
      "Cell \u001b[1;32mIn [5], line 1\u001b[0m\n\u001b[1;32m----> 1\u001b[0m dfs[\u001b[39m0\u001b[39;49m]\u001b[39m.\u001b[39;49mshape\n",
      "\u001b[1;31mAttributeError\u001b[0m: 'function' object has no attribute 'shape'"
     ]
    }
   ],
   "source": [
    "dfs[0].shape"
   ]
  }
 ],
 "metadata": {
  "kernelspec": {
   "display_name": "Python 3.10.8 ('.venv': venv)",
   "language": "python",
   "name": "python3"
  },
  "language_info": {
   "codemirror_mode": {
    "name": "ipython",
    "version": 3
   },
   "file_extension": ".py",
   "mimetype": "text/x-python",
   "name": "python",
   "nbconvert_exporter": "python",
   "pygments_lexer": "ipython3",
   "version": "3.10.8"
  },
  "orig_nbformat": 4,
  "vscode": {
   "interpreter": {
    "hash": "223c9e3fedb69859aed2c6e116f25e7c4186c8ea0f0b3fb19c1d94ebab19cd75"
   }
  }
 },
 "nbformat": 4,
 "nbformat_minor": 2
}
